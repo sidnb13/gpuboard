{
 "cells": [
  {
   "cell_type": "code",
   "execution_count": 1,
   "metadata": {},
   "outputs": [],
   "source": [
    "%load_ext autoreload\n",
    "%autoreload 2"
   ]
  },
  {
   "cell_type": "code",
   "execution_count": 3,
   "metadata": {},
   "outputs": [
    {
     "name": "stdout",
     "output_type": "stream",
     "text": [
      "DLEIRxhHp0anXY0_w-ZkL0C8rhMdlJdX8Xp2CzfIRw0\n"
     ]
    }
   ],
   "source": [
    "import secrets\n",
    "print(secrets.token_urlsafe(32))"
   ]
  },
  {
   "cell_type": "code",
   "execution_count": null,
   "metadata": {},
   "outputs": [],
   "source": [
    "import asyncio\n",
    "import json\n",
    "import os\n",
    "\n",
    "import redis.asyncio as redis\n",
    "from dotenv import load_dotenv\n",
    "\n",
    "\n",
    "async def subscribe_and_print():\n",
    "    # Initialize Redis connection\n",
    "    load_dotenv()\n",
    "    r = redis.Redis(\n",
    "        host=os.getenv(\"REDIS_HOST\"), port=os.getenv(\"REDIS_PORT\"), db=0\n",
    "    ).pubsub()\n",
    "\n",
    "    # Subscribe to channels\n",
    "    await r.subscribe(\"gpu_stats\", \"cpu_stats\", \"ssh_stats\")\n",
    "\n",
    "    # Print 10 messages total across all channels\n",
    "    count = 0\n",
    "    try:\n",
    "        while count < 10:\n",
    "            message = await r.get_message()\n",
    "            if message and message[\"type\"] == \"message\":\n",
    "                data = json.loads(message[\"data\"])\n",
    "                print(f\"Channel: {message['channel']}\")\n",
    "                print(f\"Data: {json.dumps(data, indent=2)}\")\n",
    "                print(\"-\" * 50)\n",
    "                count += 1\n",
    "    finally:\n",
    "        await r.unsubscribe()\n",
    "        await r.aclose()\n",
    "\n",
    "\n",
    "# Run the async function\n",
    "await subscribe_and_print()\n"
   ]
  },
  {
   "cell_type": "code",
   "execution_count": null,
   "metadata": {},
   "outputs": [],
   "source": [
    "import nest_asyncio  # Add this import at the top\n",
    "\n",
    "nest_asyncio.apply()  # Apply patch to allow nested event loops\n",
    "\n",
    "\n",
    "import asyncio\n",
    "import json\n",
    "\n",
    "import websockets\n",
    "\n",
    "\n",
    "async def test_websocket():\n",
    "    async with websockets.connect(\"ws://localhost:8000/ws/stats/gpu\") as websocket:\n",
    "        while True:\n",
    "            data = await websocket.recv()\n",
    "            print(f\"Received GPU stats: {json.loads(data)}\")\n",
    "\n",
    "\n",
    "asyncio.run(test_websocket())"
   ]
  },
  {
   "cell_type": "code",
   "execution_count": 1,
   "metadata": {},
   "outputs": [],
   "source": [
    "# Cell 1: Setup\n",
    "import asyncio\n",
    "import json\n",
    "import os\n",
    "\n",
    "import aiohttp\n",
    "import nest_asyncio\n",
    "from dotenv import load_dotenv\n",
    "\n",
    "nest_asyncio.apply()\n",
    "load_dotenv()\n",
    "\n",
    "MONITOR_URL = os.getenv(\"MONITOR_URL\").replace(\"0.0.0.0\", \"localhost\")\n",
    "MONITOR_API_KEY = os.getenv(\"MONITOR_API_KEY\")\n",
    "HEADERS = {\"X-API-Key\": MONITOR_API_KEY}"
   ]
  },
  {
   "cell_type": "code",
   "execution_count": 3,
   "metadata": {},
   "outputs": [
    {
     "name": "stdout",
     "output_type": "stream",
     "text": [
      "Current Settings:\n",
      "{\n",
      "  \"idle_shutdown_minutes\": 30,\n",
      "  \"warning_minutes\": 5,\n",
      "  \"check_interval_seconds\": 60,\n",
      "  \"dry_run\": false\n",
      "}\n"
     ]
    }
   ],
   "source": [
    "# Cell 2: Get current settings\n",
    "async with aiohttp.ClientSession() as session:\n",
    "    async with session.get(f\"{MONITOR_URL}/settings\", headers=HEADERS) as response:\n",
    "        settings = await response.json()\n",
    "        print(\"Current Settings:\")\n",
    "        print(json.dumps(settings, indent=2))"
   ]
  },
  {
   "cell_type": "code",
   "execution_count": 14,
   "metadata": {},
   "outputs": [
    {
     "name": "stdout",
     "output_type": "stream",
     "text": [
      "Updated Settings:\n",
      "{\n",
      "  \"idle_shutdown_minutes\": 1,\n",
      "  \"warning_minutes\": 1,\n",
      "  \"check_interval_seconds\": 60,\n",
      "  \"dry_run\": false\n",
      "}\n"
     ]
    }
   ],
   "source": [
    "# Cell 3: Update settings\n",
    "new_settings = {\n",
    "    \"idle_shutdown_minutes\": 1,\n",
    "    \"warning_minutes\": 1\n",
    "}\n",
    "\n",
    "async with aiohttp.ClientSession() as session:\n",
    "    async with session.patch(f\"{MONITOR_URL}/settings\", headers=HEADERS, json=new_settings) as response:\n",
    "        updated = await response.json()\n",
    "        print(\"Updated Settings:\")\n",
    "        print(json.dumps(updated, indent=2))"
   ]
  },
  {
   "cell_type": "code",
   "execution_count": 7,
   "metadata": {},
   "outputs": [
    {
     "name": "stdout",
     "output_type": "stream",
     "text": [
      "Slack Configuration Result:\n",
      "{\n",
      "  \"status\": \"updated\",\n",
      "  \"enabled\": true\n",
      "}\n"
     ]
    }
   ],
   "source": [
    "# Cell 4: Configure Slack\n",
    "slack_settings = {\n",
    "    \"slack_token\": os.getenv(\"SLACK_BOT_TOKEN\"),\n",
    "    \"slack_channel\": os.getenv(\"SLACK_CHANNEL\")\n",
    "}\n",
    "\n",
    "async with aiohttp.ClientSession() as session:\n",
    "    async with session.put(f\"{MONITOR_URL}/slack\", headers=HEADERS, json=slack_settings) as response:\n",
    "        result = await response.json()\n",
    "        print(\"Slack Configuration Result:\")\n",
    "        print(json.dumps(result, indent=2))"
   ]
  },
  {
   "cell_type": "code",
   "execution_count": 22,
   "metadata": {},
   "outputs": [
    {
     "name": "stdout",
     "output_type": "stream",
     "text": [
      "<ClientResponse(http://localhost:8001/instances) [200 OK]>\n",
      "<CIMultiDictProxy('Date': 'Fri, 22 Nov 2024 16:36:06 GMT', 'Server': 'uvicorn', 'Content-Length': '172', 'Content-Type': 'application/json')>\n",
      "\n",
      "Registered Instances:\n",
      "{\n",
      "  \"test-instance-1\": {\n",
      "    \"name\": \"Test Instance\",\n",
      "    \"status\": \"online\",\n",
      "    \"last_heartbeat\": \"2024-11-22T16:36:00.403315\",\n",
      "    \"last_activity\": \"2024-11-22T16:36:00.403305\",\n",
      "    \"current_stats\": {}\n",
      "  }\n",
      "}\n"
     ]
    }
   ],
   "source": [
    "# Cell 5: List all instances\n",
    "async with aiohttp.ClientSession() as session:\n",
    "    async with session.get(f\"{MONITOR_URL}/instances\", headers=HEADERS) as response:\n",
    "        print(response)\n",
    "        instances = await response.json()\n",
    "        print(\"Registered Instances:\")\n",
    "        print(json.dumps(instances, indent=2))"
   ]
  },
  {
   "cell_type": "code",
   "execution_count": 27,
   "metadata": {},
   "outputs": [
    {
     "name": "stdout",
     "output_type": "stream",
     "text": [
      "Current Metrics:\n",
      "{\n",
      "  \"total_instances\": 1,\n",
      "  \"active_instances\": 1,\n",
      "  \"instances_with_gpu_activity\": 1,\n",
      "  \"instances_with_users\": 1\n",
      "}\n"
     ]
    }
   ],
   "source": [
    "# Cell 6: Get metrics\n",
    "async with aiohttp.ClientSession() as session:\n",
    "    async with session.get(f\"{MONITOR_URL}/metrics\", headers=HEADERS) as response:\n",
    "        metrics = await response.json()\n",
    "        print(\"Current Metrics:\")\n",
    "        print(json.dumps(metrics, indent=2))"
   ]
  },
  {
   "cell_type": "code",
   "execution_count": 26,
   "metadata": {},
   "outputs": [
    {
     "name": "stdout",
     "output_type": "stream",
     "text": [
      "Details for instance test-instance-1:\n",
      "{\n",
      "  \"name\": \"Test Instance\",\n",
      "  \"status\": \"online\",\n",
      "  \"last_heartbeat\": \"2024-11-22T16:36:00.403315\",\n",
      "  \"last_activity\": \"2024-11-22T16:36:00.403305\",\n",
      "  \"current_stats\": {}\n",
      "}\n"
     ]
    }
   ],
   "source": [
    "# Cell 7: Get specific instance details\n",
    "instance_id = os.getenv(\"INSTANCE_ID\")  # from your .env\n",
    "\n",
    "async with aiohttp.ClientSession() as session:\n",
    "    async with session.get(f\"{MONITOR_URL}/instances/{instance_id}\", headers=HEADERS) as response:\n",
    "        if response.status == 200:\n",
    "            instance = await response.json()\n",
    "            print(f\"Details for instance {instance_id}:\")\n",
    "            print(json.dumps(instance, indent=2))\n",
    "        else:\n",
    "            print(f\"Error getting instance (status: {response.status})\")\n",
    "            print(await response.text())"
   ]
  },
  {
   "cell_type": "code",
   "execution_count": 2,
   "metadata": {},
   "outputs": [
    {
     "name": "stdout",
     "output_type": "stream",
     "text": [
      "Connected to WebSocket at ws://localhost:8000/ws/stats/test-instance-1/gpu, waiting for messages...\n",
      "\n",
      "Received data:\n",
      "[\n",
      "  {\n",
      "    \"gpu_id\": 0,\n",
      "    \"memory_total\": 0,\n",
      "    \"memory_used\": 0,\n",
      "    \"memory_free\": 0,\n",
      "    \"gpu_utilization\": 0,\n",
      "    \"memory_utilization\": 0,\n",
      "    \"temperature\": 0,\n",
      "    \"timestamp\": \"2024-11-22T16:49:07.209984\"\n",
      "  }\n",
      "]\n",
      "\n",
      "Received data:\n",
      "[\n",
      "  {\n",
      "    \"gpu_id\": 0,\n",
      "    \"memory_total\": 0,\n",
      "    \"memory_used\": 0,\n",
      "    \"memory_free\": 0,\n",
      "    \"gpu_utilization\": 0,\n",
      "    \"memory_utilization\": 0,\n",
      "    \"temperature\": 0,\n",
      "    \"timestamp\": \"2024-11-22T16:49:18.232771\"\n",
      "  }\n",
      "]\n",
      "WebSocket connection failed: received 1012 (service restart); then sent 1012 (service restart)\n"
     ]
    }
   ],
   "source": [
    "# Cell 8: Test WebSocket connection\n",
    "import websockets\n",
    "\n",
    "instance_id = os.getenv(\"INSTANCE_ID\")\n",
    "# Use AGENT_URL instead of MONITOR_URL\n",
    "agent_url = os.getenv(\"AGENT_URL\", \"http://localhost:8000\")  # Add this to your .env file\n",
    "ws_url = agent_url.replace(\"http://\", \"ws://\")\n",
    "uri = f\"{ws_url}/ws/stats/{instance_id}/gpu\"\n",
    "\n",
    "async def test_websocket():\n",
    "    try:\n",
    "        async with websockets.connect(uri) as websocket:\n",
    "            print(f\"Connected to WebSocket at {uri}, waiting for messages...\")\n",
    "            for _ in range(3):  # Get 3 messages\n",
    "                data = await websocket.recv()\n",
    "                print(\"\\nReceived data:\")\n",
    "                print(json.dumps(json.loads(data), indent=2))\n",
    "    except Exception as e:\n",
    "        print(f\"WebSocket connection failed: {str(e)}\")\n",
    "\n",
    "await test_websocket()"
   ]
  },
  {
   "cell_type": "code",
   "execution_count": 2,
   "metadata": {},
   "outputs": [
    {
     "name": "stdout",
     "output_type": "stream",
     "text": [
      "Testing with channel: bots\n",
      "Token starts with: xoxb-79564...\n",
      "Auth test passed! Connected as: powerful_app\n",
      "Message sent successfully! Timestamp: 1732301896.721719\n",
      "Error: channel_not_found\n"
     ]
    }
   ],
   "source": [
    "import asyncio\n",
    "import os\n",
    "\n",
    "import nest_asyncio\n",
    "from dotenv import load_dotenv\n",
    "from slack_sdk.errors import SlackApiError\n",
    "from slack_sdk.web.async_client import AsyncWebClient\n",
    "\n",
    "nest_asyncio.apply()\n",
    "load_dotenv()\n",
    "\n",
    "\n",
    "async def test_slack_message(token: str, channel: str):\n",
    "    client = AsyncWebClient(token=token)\n",
    "\n",
    "    # Add debug prints\n",
    "    print(f\"Testing with channel: {channel}\")\n",
    "    print(f\"Token starts with: {token[:10]}...\")\n",
    "\n",
    "    try:\n",
    "        # Test auth first\n",
    "        auth_test = await client.auth_test()\n",
    "        print(f\"Auth test passed! Connected as: {auth_test['user']}\")\n",
    "        # Test sending a message\n",
    "        response = await client.chat_postMessage(\n",
    "            channel=channel,\n",
    "            text=\"🔧 Test message from GPU Monitor! 🖥️\",\n",
    "            unfurl_links=False,\n",
    "        )\n",
    "        print(f\"Message sent successfully! Timestamp: {response['ts']}\")\n",
    "\n",
    "        # Test updating the message\n",
    "        await asyncio.sleep(2)  # Wait 2 seconds\n",
    "        await client.chat_update(\n",
    "            channel=channel,\n",
    "            ts=response[\"ts\"],\n",
    "            text=\"🔄 Updated test message from GPU Monitor! 🖥️\",\n",
    "            unfurl_links=False,\n",
    "        )\n",
    "        print(\"Message updated successfully!\")\n",
    "\n",
    "    except SlackApiError as e:\n",
    "        print(f\"Error: {e.response['error']}\")\n",
    "\n",
    "\n",
    "asyncio.run(\n",
    "    test_slack_message(os.getenv(\"SLACK_BOT_TOKEN\"), os.getenv(\"SLACK_CHANNEL\"))\n",
    ")"
   ]
  }
 ],
 "metadata": {
  "kernelspec": {
   "display_name": "Python 3",
   "language": "python",
   "name": "python3"
  },
  "language_info": {
   "codemirror_mode": {
    "name": "ipython",
    "version": 3
   },
   "file_extension": ".py",
   "mimetype": "text/x-python",
   "name": "python",
   "nbconvert_exporter": "python",
   "pygments_lexer": "ipython3",
   "version": "3.11.10"
  }
 },
 "nbformat": 4,
 "nbformat_minor": 2
}
